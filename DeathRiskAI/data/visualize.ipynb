{
 "cells": [
  {
   "cell_type": "code",
   "execution_count": 3,
   "id": "4996c205",
   "metadata": {},
   "outputs": [
    {
     "data": {
      "text/plain": [
       "186"
      ]
     },
     "execution_count": 3,
     "metadata": {},
     "output_type": "execute_result"
    }
   ],
   "source": [
    "import pandas as pd\n",
    "\n",
    "df = pd.read_csv('./bronze.csv')\n",
    "df.head(10)\n",
    "len(df.columns)"
   ]
  },
  {
   "cell_type": "code",
   "execution_count": 7,
   "id": "92864ece",
   "metadata": {},
   "outputs": [
    {
     "data": {
      "text/plain": [
       "apache_2_diagnosis\n",
       "113.0    6089\n",
       "302.0    3513\n",
       "301.0    3506\n",
       "308.0    2407\n",
       "112.0    2218\n",
       "124.0    2089\n",
       "303.0    2034\n",
       "117.0    2030\n",
       "122.0    1991\n",
       "203.0    1918\n",
       "110.0    1801\n",
       "304.0    1600\n",
       "202.0    1460\n",
       "106.0    1267\n",
       "114.0    1241\n",
       "305.0    1097\n",
       "121.0    1081\n",
       "123.0    1067\n",
       "307.0     937\n",
       "102.0     915\n",
       "119.0     751\n",
       "120.0     675\n",
       "214.0     612\n",
       "109.0     595\n",
       "105.0     562\n",
       "118.0     424\n",
       "213.0     420\n",
       "108.0     381\n",
       "306.0     302\n",
       "218.0     299\n",
       "207.0     288\n",
       "217.0     251\n",
       "209.0     232\n",
       "219.0     231\n",
       "104.0     209\n",
       "101.0     197\n",
       "103.0     180\n",
       "115.0     174\n",
       "116.0     135\n",
       "107.0      99\n",
       "215.0      74\n",
       "208.0      71\n",
       "212.0      59\n",
       "216.0      25\n",
       "Name: count, dtype: int64"
      ]
     },
     "execution_count": 7,
     "metadata": {},
     "output_type": "execute_result"
    }
   ],
   "source": [
    "df[\"apache_2_diagnosis\"].value_counts()"
   ]
  }
 ],
 "metadata": {
  "kernelspec": {
   "display_name": "Python 3",
   "language": "python",
   "name": "python3"
  },
  "language_info": {
   "codemirror_mode": {
    "name": "ipython",
    "version": 3
   },
   "file_extension": ".py",
   "mimetype": "text/x-python",
   "name": "python",
   "nbconvert_exporter": "python",
   "pygments_lexer": "ipython3",
   "version": "3.12.1"
  }
 },
 "nbformat": 4,
 "nbformat_minor": 5
}
