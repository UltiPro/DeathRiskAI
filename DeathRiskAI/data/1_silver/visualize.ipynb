{
 "cells": [
  {
   "cell_type": "code",
   "execution_count": 2,
   "id": "5cb10ff0",
   "metadata": {},
   "outputs": [
    {
     "data": {
      "text/plain": [
       "(48461, 129)"
      ]
     },
     "execution_count": 2,
     "metadata": {},
     "output_type": "execute_result"
    }
   ],
   "source": [
    "import pandas as pd\n",
    "import matplotlib.pyplot as plt\n",
    "\n",
    "df = pd.read_csv(\"./silver.csv\")\n",
    "df.shape"
   ]
  },
  {
   "cell_type": "code",
   "execution_count": 3,
   "id": "9f9d2327",
   "metadata": {},
   "outputs": [
    {
     "name": "stdout",
     "output_type": "stream",
     "text": [
      "Columns with missing values: ['gender', 'age', 'bmi', 'aids', 'cirrhosis', 'diabetes_mellitus', 'hepatic_failure', 'immunosuppression', 'leukemia', 'lymphoma', 'solid_tumor_with_metastasis', 'arf', 'albumin', 'h1_albumin_min', 'h1_albumin_max', 'd1_albumin_min', 'd1_albumin_max', 'bilirubin', 'h1_bilirubin_min', 'h1_bilirubin_max', 'd1_bilirubin_min', 'd1_bilirubin_max', 'bun', 'h1_bun_min', 'h1_bun_max', 'd1_bun_min', 'd1_bun_max', 'h1_calcium_min', 'h1_calcium_max', 'd1_calcium_min', 'd1_calcium_max', 'creatinine', 'h1_creatinine_min', 'h1_creatinine_max', 'd1_creatinine_min', 'd1_creatinine_max', 'glucose', 'h1_glucose_min', 'h1_glucose_max', 'd1_glucose_min', 'd1_glucose_max', 'h1_hco3_min', 'h1_hco3_max', 'd1_hco3_min', 'd1_hco3_max', 'heart_rate', 'h1_heartrate_min', 'h1_heartrate_max', 'd1_heartrate_min', 'd1_heartrate_max', 'h1_hemaglobin_min', 'h1_hemaglobin_max', 'd1_hemaglobin_min', 'd1_hemaglobin_max', 'hematocrit', 'h1_hematocrit_min', 'h1_hematocrit_max', 'd1_hematocrit_min', 'd1_hematocrit_max', 'h1_inr_min', 'h1_inr_max', 'd1_inr_min', 'd1_inr_max', 'h1_lactate_min', 'h1_lactate_max', 'd1_lactate_min', 'd1_lactate_max', 'map', 'h1_mbp_min', 'h1_mbp_max', 'd1_mbp_min', 'd1_mbp_max', 'ph', 'h1_arterial_ph_min', 'h1_arterial_ph_max', 'd1_arterial_ph_min', 'd1_arterial_ph_max', 'h1_platelets_min', 'h1_platelets_max', 'd1_platelets_min', 'd1_platelets_max', 'h1_potassium_min', 'h1_potassium_max', 'd1_potassium_min', 'd1_potassium_max', 'sodium', 'h1_sodium_min', 'h1_sodium_max', 'd1_sodium_min', 'd1_sodium_max', 'h1_spo2_min', 'h1_spo2_max', 'd1_spo2_min', 'd1_spo2_max', 'temp', 'h1_temp_min', 'h1_temp_max', 'd1_temp_min', 'd1_temp_max', 'wbc', 'h1_wbc_min', 'h1_wbc_max', 'd1_wbc_min', 'd1_wbc_max', 'h1_arterial_pco2_min', 'h1_arterial_pco2_max', 'd1_arterial_pco2_min', 'd1_arterial_pco2_max', 'h1_arterial_po2_min', 'h1_arterial_po2_max', 'd1_arterial_po2_min', 'd1_arterial_po2_max', 'h1_diasbp_min', 'h1_diasbp_max', 'd1_diasbp_min', 'd1_diasbp_max', 'fio2', 'pao2', 'h1_pao2fio2ratio_min', 'h1_pao2fio2ratio_max', 'd1_pao2fio2ratio_min', 'd1_pao2fio2ratio_max', 'h1_sysbp_min', 'h1_sysbp_max', 'd1_sysbp_min', 'd1_sysbp_max', 'urineoutput']\n",
      "Count of missing values in each column:\n",
      "gender             19\n",
      "age              2311\n",
      "bmi              2494\n",
      "aids              425\n",
      "cirrhosis         425\n",
      "                ...  \n",
      "h1_sysbp_min     1261\n",
      "h1_sysbp_max     1261\n",
      "d1_sysbp_min       95\n",
      "d1_sysbp_max       95\n",
      "urineoutput     21648\n",
      "Length: 127, dtype: int64\n"
     ]
    }
   ],
   "source": [
    "# Columns with missing values\n",
    "missing_columns = df.columns[df.isnull().any()].tolist()\n",
    "print(\"Columns with missing values:\", missing_columns)\n",
    "\n",
    "# Count of missing values in each column\n",
    "missing_counts = df[missing_columns].isnull().sum()\n",
    "print(\"Count of missing values in each column:\")\n",
    "print(missing_counts)"
   ]
  },
  {
   "cell_type": "code",
   "execution_count": 26,
   "id": "1106680d",
   "metadata": {},
   "outputs": [
    {
     "name": "stdout",
     "output_type": "stream",
     "text": [
      "urineoutput\n",
      "0.000000       757\n",
      "8716.669632     95\n",
      "1799.971200     20\n",
      "899.942400      17\n",
      "1599.955200     17\n",
      "              ... \n",
      "3128.630400      1\n",
      "520.387200       1\n",
      "1179.100800      1\n",
      "1626.652800      1\n",
      "935.539200       1\n",
      "Name: count, Length: 18050, dtype: int64\n"
     ]
    }
   ],
   "source": [
    "col = \"urineoutput\"\n",
    "\n",
    "print(df[col].value_counts())"
   ]
  },
  {
   "cell_type": "code",
   "execution_count": null,
   "id": "2ae2771a",
   "metadata": {},
   "outputs": [],
   "source": []
  }
 ],
 "metadata": {
  "kernelspec": {
   "display_name": "Python 3",
   "language": "python",
   "name": "python3"
  },
  "language_info": {
   "codemirror_mode": {
    "name": "ipython",
    "version": 3
   },
   "file_extension": ".py",
   "mimetype": "text/x-python",
   "name": "python",
   "nbconvert_exporter": "python",
   "pygments_lexer": "ipython3",
   "version": "3.12.1"
  }
 },
 "nbformat": 4,
 "nbformat_minor": 5
}
